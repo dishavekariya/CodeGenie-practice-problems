{
 "cells": [
  {
   "cell_type": "code",
   "execution_count": 66,
   "id": "60a8e080",
   "metadata": {},
   "outputs": [
    {
     "name": "stdout",
     "output_type": "stream",
     "text": [
      "{'*': '5', '/': '0', '^': '3'}\n"
     ]
    },
    {
     "data": {
      "text/plain": [
       "-1"
      ]
     },
     "execution_count": 66,
     "metadata": {},
     "output_type": "execute_result"
    }
   ],
   "source": [
    "n = 2500\n",
    "series = [\"X * 5\",\"X / 0\",\"X ^ 3\"]\n",
    "\n",
    "eq = {}\n",
    "\n",
    "def setSeries(series) :\n",
    "    for str in series :\n",
    "        operation = str.split(\" \")\n",
    "        eq[operation[1]] = operation[2]\n",
    "\n",
    "def checkSeries(eq) :\n",
    "    \n",
    "    if \"/\" in eq.keys() and eq[\"/\"]=='0' :\n",
    "        return -1\n",
    "    if \"%\" in eq.keys() and eq[\"%\"]=='0' :\n",
    "        return -1\n",
    "    if \"%\" in eq.keys() :\n",
    "        return -2\n",
    "    if \"*\" in eq.keys() and eq[\"*\"]=='0' :\n",
    "        return -2\n",
    "    if \"^\" in eq.keys() and eq[\"^\"]=='0' :\n",
    "        return -2\n",
    "    \n",
    "    return 0\n",
    "\n",
    " # main task here\n",
    "def getFinalResult(eq):\n",
    "    \n",
    "    if checkSeries(eq) != 0 :\n",
    "        return checkSeries(eq)\n",
    "    else :\n",
    "        singList = [i for i in eq]\n",
    "        \n",
    "        ans = n\n",
    "        \n",
    "        for sign in singList[::-1] :\n",
    "            if sign == '/' :\n",
    "                ans = ans * int(eq['/'])\n",
    "            if sign == '*' :\n",
    "                ans = ans / int(eq['*'])\n",
    "            if sign == '+' :\n",
    "                ans = ans - int(eq['+'])\n",
    "            if sign == '-' :\n",
    "                ans = ans + int(eq['-'])\n",
    "            if sign == '^' :\n",
    "                ans = ans ** (1/int(eq['^'])) \n",
    "        \n",
    "    return ans\n",
    "\n",
    "setSeries(series)\n",
    "print(eq)\n",
    "getFinalResult(eq)"
   ]
  },
  {
   "cell_type": "code",
   "execution_count": 64,
   "id": "26ee8eb2",
   "metadata": {},
   "outputs": [],
   "source": []
  },
  {
   "cell_type": "code",
   "execution_count": 81,
   "id": "993ef7cc",
   "metadata": {},
   "outputs": [
    {
     "name": "stdout",
     "output_type": "stream",
     "text": [
      "['^', '*', '-', '/'] [2, 0, 5, 0]\n"
     ]
    }
   ],
   "source": [
    "\n"
   ]
  },
  {
   "cell_type": "code",
   "execution_count": 96,
   "id": "bfa5e918",
   "metadata": {},
   "outputs": [
    {
     "name": "stdout",
     "output_type": "stream",
     "text": [
      "['^', '/', '+', '-', '+'] [1, 2, 1, 0, 5]\n"
     ]
    },
    {
     "data": {
      "text/plain": [
       "1234567890.0"
      ]
     },
     "execution_count": 96,
     "metadata": {},
     "output_type": "execute_result"
    }
   ],
   "source": [
    "# Take 2 :\n",
    "\n",
    "n = 617283948\n",
    "series = [\"X + 5\",\"X - 0\",\"X + 1\",\"X / 2\", \"X ^ 1\"]\n",
    "\n",
    "signs = []\n",
    "numbers = []\n",
    "\n",
    "# (reverse) Setting signs and numbers in arrays\n",
    "\n",
    "def setSeries(series) :\n",
    "    \n",
    "    for str in series[::-1] :\n",
    "        op = str.split(\" \")\n",
    "        signs.append(op[1])\n",
    "        numbers.append(int(op[2]))\n",
    "\n",
    "setSeries(series)\n",
    "\n",
    "print(signs,numbers)\n",
    "\n",
    "# Check series\n",
    "def checkSeries(signs,numbers) :\n",
    "    \n",
    "    numbers = numbers[::-1]\n",
    "    signs = signs[::-1]\n",
    "    i = 0\n",
    "    \n",
    "    for sign in signs :\n",
    "        if sign == '/' and numbers[i]==0 :\n",
    "            return -1\n",
    "        if sign == '*' and numbers[i]==0 :\n",
    "            return -2\n",
    "        if sign == '^' and numbers[i]==0 :\n",
    "            return -2\n",
    "        if sign == '%' :\n",
    "            if numbers[i] == 0 :\n",
    "                return -1\n",
    "            else :\n",
    "                return -2\n",
    "        i+=1\n",
    "    return 0\n",
    "\n",
    "checkSeries(signs,numbers)\n",
    "\n",
    "# Calculate final resulst\n",
    "\n",
    "def calculateFinalAns(signs,numbers) :\n",
    "    \n",
    "    isError = checkSeries(signs,numbers)\n",
    "    ans = n\n",
    "    \n",
    "    if isError != 0 :\n",
    "        return isError\n",
    "    else :\n",
    "        \n",
    "        i = 0\n",
    "        for sign in signs :\n",
    "            if sign == '+' :\n",
    "                ans = ans - numbers[i]\n",
    "            elif sign == '-' :\n",
    "                ans = ans + numbers[i]\n",
    "            elif sign == '*' :\n",
    "                ans = ans / numbers[i]\n",
    "            elif sign == '/' :\n",
    "                ans = ans * numbers[i]\n",
    "            elif sign == '^' :\n",
    "                ans = ans ** (1/numbers[i])\n",
    "            i+=1\n",
    "        return ans\n",
    "\n",
    "calculateFinalAns(signs,numbers)"
   ]
  },
  {
   "cell_type": "code",
   "execution_count": 4,
   "id": "655a820b",
   "metadata": {},
   "outputs": [
    {
     "data": {
      "text/plain": [
       "True"
      ]
     },
     "execution_count": 4,
     "metadata": {},
     "output_type": "execute_result"
    }
   ],
   "source": [
    "# Practioce task 2\n",
    "c1 = (0,0)\n",
    "r1 = 20\n",
    "c2 = (0,0)\n",
    "r2 = 25\n",
    "\n",
    "def doesOverlap(c1,c2,r1,r2) :\n",
    "    distance = (((c1[0]-c2[0])**2) + ((c1[1]-c2[1])**2)) ** (1/2)\n",
    "    \n",
    "    if distance >= r1+r2 :\n",
    "        return False\n",
    "    else :\n",
    "        return True\n",
    "\n",
    "doesOverlap(c1,c2,r1,r2)"
   ]
  },
  {
   "cell_type": "code",
   "execution_count": 41,
   "id": "0e054cfc",
   "metadata": {},
   "outputs": [
    {
     "data": {
      "text/plain": [
       "1"
      ]
     },
     "execution_count": 41,
     "metadata": {},
     "output_type": "execute_result"
    }
   ],
   "source": [
    "# Practice task 3\n",
    "n = 4\n",
    "words = ['abc', 'bca', 'bcd'] \n",
    "\n",
    "\n",
    "def getNoOfPairs(words) :\n",
    "    pairs = {}\n",
    "\n",
    "    for word in words :\n",
    "        word = sorted(word)\n",
    "        word = \"\".join(word)\n",
    "\n",
    "        if word not in pairs :\n",
    "            pairs[word] = 1\n",
    "        else :\n",
    "            pairs[word]+=1\n",
    "\n",
    "    noOfPairs = len(pairs)\n",
    "\n",
    "    for word in pairs :\n",
    "        if pairs[word] == 1 :\n",
    "            noOfPairs -= 1\n",
    "            \n",
    "    return noOfPairs\n",
    "\n",
    "\n",
    "getNoOfPairs(words)"
   ]
  },
  {
   "cell_type": "code",
   "execution_count": 16,
   "id": "0ba0024f",
   "metadata": {},
   "outputs": [
    {
     "data": {
      "text/plain": [
       "{'a': 1, 'b': 5, 'c': 3}"
      ]
     },
     "execution_count": 16,
     "metadata": {},
     "output_type": "execute_result"
    }
   ],
   "source": [
    "d = {'a':1,'c':3,'b':5}\n",
    "dict(sorted(d.items()))"
   ]
  },
  {
   "cell_type": "code",
   "execution_count": 25,
   "id": "2b27904b",
   "metadata": {},
   "outputs": [
    {
     "data": {
      "text/plain": [
       "['a', 'b', 'b', 'c']"
      ]
     },
     "execution_count": 25,
     "metadata": {},
     "output_type": "execute_result"
    }
   ],
   "source": [
    "str = 'abcb'\n",
    "sorted(str)"
   ]
  },
  {
   "cell_type": "code",
   "execution_count": 31,
   "id": "89e974f3",
   "metadata": {},
   "outputs": [
    {
     "data": {
      "text/plain": [
       "'abbc'"
      ]
     },
     "execution_count": 31,
     "metadata": {},
     "output_type": "execute_result"
    }
   ],
   "source": [
    "word = \"\".join(['a', 'b', 'b', 'c'])\n",
    "word"
   ]
  },
  {
   "cell_type": "raw",
   "id": "0f631666",
   "metadata": {},
   "source": []
  },
  {
   "cell_type": "code",
   "execution_count": 8,
   "id": "b186c6a4",
   "metadata": {},
   "outputs": [
    {
     "data": {
      "text/plain": [
       "'abcd'"
      ]
     },
     "execution_count": 8,
     "metadata": {},
     "output_type": "execute_result"
    }
   ],
   "source": [
    "a = [3,1,5,4]\n",
    "str = 'adcb'\n",
    "a = \"\".join(sorted(str))\n",
    "a"
   ]
  },
  {
   "cell_type": "code",
   "execution_count": 18,
   "id": "be6c1318",
   "metadata": {},
   "outputs": [
    {
     "data": {
      "text/plain": [
       "list"
      ]
     },
     "execution_count": 18,
     "metadata": {},
     "output_type": "execute_result"
    }
   ],
   "source": [
    "def sum(*a) :\n",
    "    return type(a[0])\n",
    "    \n",
    "sum([1,2])"
   ]
  },
  {
   "cell_type": "code",
   "execution_count": 30,
   "id": "3e93c318",
   "metadata": {},
   "outputs": [
    {
     "name": "stdout",
     "output_type": "stream",
     "text": [
      "1 2 3\n",
      "1 2 3\n"
     ]
    },
    {
     "data": {
      "text/plain": [
       "[1, 2, 3]"
      ]
     },
     "execution_count": 30,
     "metadata": {},
     "output_type": "execute_result"
    }
   ],
   "source": [
    "n = input()\n",
    "print(n)\n",
    "n = n.split(\" \")\n",
    "n = [int(num) for num in n]\n",
    "n\n"
   ]
  },
  {
   "cell_type": "code",
   "execution_count": 43,
   "id": "d3847968",
   "metadata": {},
   "outputs": [],
   "source": [
    "def power(base,pow) :\n",
    "    if pow == 1 :\n",
    "        return base\n",
    "    else :\n",
    "        return base*power(base,pow-1)\n",
    "    \n",
    "power(2,5)\n",
    "\n",
    "def length(num) :\n",
    "    if num//10 == 0 :\n",
    "        return 1\n",
    "    else :\n",
    "        return 1 + length(num//10)\n",
    "\n",
    "length(54621)\n",
    "\n",
    "def rev(num) :\n",
    "    "
   ]
  },
  {
   "cell_type": "code",
   "execution_count": 42,
   "id": "e8acfd46",
   "metadata": {},
   "outputs": [
    {
     "data": {
      "text/plain": [
       "[4, 3, 2, 1]"
      ]
     },
     "execution_count": 42,
     "metadata": {},
     "output_type": "execute_result"
    }
   ],
   "source": [
    "a = [1,2,3,4]\n"
   ]
  },
  {
   "cell_type": "code",
   "execution_count": 49,
   "id": "670c9331",
   "metadata": {},
   "outputs": [
    {
     "data": {
      "text/plain": [
       "321"
      ]
     },
     "execution_count": 49,
     "metadata": {},
     "output_type": "execute_result"
    }
   ],
   "source": [
    "def rev(num,r) :\n",
    "    if num==0 :\n",
    "        return r\n",
    "    else :\n",
    "        return rev(num//10, r*10 + num%10)\n",
    "    \n",
    "rev(123,0)"
   ]
  },
  {
   "cell_type": "code",
   "execution_count": 53,
   "id": "d56d4a63",
   "metadata": {},
   "outputs": [
    {
     "data": {
      "text/plain": [
       "[[None, None, None, None, None],\n",
       " [None, None, None, None, None],\n",
       " [None, None, None, None, None]]"
      ]
     },
     "execution_count": 53,
     "metadata": {},
     "output_type": "execute_result"
    }
   ],
   "source": [
    "a = [[None]*5]*3\n",
    "a"
   ]
  },
  {
   "cell_type": "code",
   "execution_count": 61,
   "id": "3f555682",
   "metadata": {},
   "outputs": [
    {
     "name": "stdout",
     "output_type": "stream",
     "text": [
      "hii\n"
     ]
    }
   ],
   "source": [
    "if not 1 != 1 :\n",
    "    print('hii')"
   ]
  },
  {
   "cell_type": "code",
   "execution_count": 72,
   "id": "a130167f",
   "metadata": {},
   "outputs": [
    {
     "name": "stdout",
     "output_type": "stream",
     "text": [
      "120\n"
     ]
    }
   ],
   "source": [
    "memo = {}\n",
    "def memoiz_factorial(f) :\n",
    "    \n",
    "    def inner(num) :\n",
    "        if num not in memo :\n",
    "            memo[num] = f(num)\n",
    "        \n",
    "        return memo[num]\n",
    "        \n",
    "    return inner\n",
    "    \n",
    "\n",
    "@memoiz_factorial\n",
    "def facto(num) :\n",
    "    if num == 1 :\n",
    "        return 1\n",
    "    else :\n",
    "        return num * facto(num-1)\n",
    "\n",
    "print(facto(5))"
   ]
  },
  {
   "cell_type": "code",
   "execution_count": 73,
   "id": "1c985588",
   "metadata": {},
   "outputs": [
    {
     "name": "stdout",
     "output_type": "stream",
     "text": [
      "120\n",
      "120\n"
     ]
    }
   ],
   "source": [
    "memory = {}\n",
    "def memoize_factorial(f):\n",
    "     \n",
    "    # This inner function has access to memory\n",
    "    # and 'f'\n",
    "    def inner(num):\n",
    "        if num not in memory:\n",
    "            memory[num] = f(num)\n",
    "            \n",
    "        return memory[num]\n",
    " \n",
    "    return inner\n",
    "     \n",
    "@memoize_factorial\n",
    "def facto(num):\n",
    "    if num == 1:\n",
    "        return 1\n",
    "    else:\n",
    "        return num * facto(num-1)\n",
    " \n",
    "print(facto(5))\n",
    "print(facto(5)) "
   ]
  },
  {
   "cell_type": "code",
   "execution_count": 78,
   "id": "11e74c07",
   "metadata": {},
   "outputs": [
    {
     "data": {
      "text/plain": [
       "False"
      ]
     },
     "execution_count": 78,
     "metadata": {},
     "output_type": "execute_result"
    }
   ],
   "source": [
    "a =float('inf')\n",
    "a"
   ]
  },
  {
   "cell_type": "code",
   "execution_count": 17,
   "id": "cbb114bb",
   "metadata": {},
   "outputs": [
    {
     "data": {
      "text/plain": [
       "['disha', 'hello', 'hii']"
      ]
     },
     "execution_count": 17,
     "metadata": {},
     "output_type": "execute_result"
    }
   ],
   "source": [
    "a = [\"abc\"]*3 + [\"dog\"]*4\n",
    "a = [\"abc\"] + [\"god\"]\n",
    "b = {\n",
    "    'b' : \"disha\",\n",
    "    'g' : \"hii\",\n",
    "    'a' : \"hello\"\n",
    "}\n",
    "\n",
    "b = sorted(b.values())\n",
    "b\n"
   ]
  },
  {
   "cell_type": "code",
   "execution_count": 11,
   "id": "0e024c48",
   "metadata": {},
   "outputs": [
    {
     "data": {
      "text/plain": [
       "'abc'"
      ]
     },
     "execution_count": 11,
     "metadata": {},
     "output_type": "execute_result"
    }
   ],
   "source": []
  },
  {
   "cell_type": "code",
   "execution_count": null,
   "id": "79984151",
   "metadata": {},
   "outputs": [],
   "source": []
  }
 ],
 "metadata": {
  "kernelspec": {
   "display_name": "Python 3 (ipykernel)",
   "language": "python",
   "name": "python3"
  },
  "language_info": {
   "codemirror_mode": {
    "name": "ipython",
    "version": 3
   },
   "file_extension": ".py",
   "mimetype": "text/x-python",
   "name": "python",
   "nbconvert_exporter": "python",
   "pygments_lexer": "ipython3",
   "version": "3.9.13"
  }
 },
 "nbformat": 4,
 "nbformat_minor": 5
}
